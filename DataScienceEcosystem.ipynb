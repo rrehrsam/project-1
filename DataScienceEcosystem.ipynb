{
 "cells": [
  {
   "cell_type": "markdown",
   "id": "bdfe1a03-3da5-4843-a03c-bca3a9767ec7",
   "metadata": {},
   "source": [
    "# Data Science Tools and Ecosystem\n"
   ]
  },
  {
   "cell_type": "markdown",
   "id": "28174701-f2a1-4fcb-aa26-5ccf468daa44",
   "metadata": {},
   "source": [
    "In this notebook, Data Science Tools and Ecosystem are summarized"
   ]
  },
  {
   "cell_type": "markdown",
   "id": "523a66f6-466d-42b5-84d0-9d67ebf4ae76",
   "metadata": {},
   "source": [
    "\n",
    "\n",
    "some of the popular languages that Data Scincentists use are:\n",
    "    \n",
    "    1.Python\n",
    "    2.R\n",
    "    3.SQL"
   ]
  },
  {
   "cell_type": "markdown",
   "id": "885810cb-17cd-4e87-8c6e-e60cb812359d",
   "metadata": {},
   "source": [
    "## Data Science Tools\n",
    "\n",
    "Some of the commonly used libraries used by Data Scientists include:\n",
    "\n",
    "1. NumPy\n",
    "2. Pandas\n",
    "3. Matplotlib"
   ]
  },
  {
   "cell_type": "markdown",
   "id": "80ee5f91-80ff-42da-9810-bed89cadbd27",
   "metadata": {
    "tags": []
   },
   "source": [
    "## Data Science Tools\n",
    "\n",
    "| Data Science Tools |\n",
    "|---------------------|\n",
    "| Jupyter Notebook    |\n",
    "| RStudio             |\n",
    "| VS Code + Python    |\n"
   ]
  },
  {
   "cell_type": "markdown",
   "id": "3d1e22dc-6a22-4b61-9a49-636d26d4815e",
   "metadata": {
    "tags": []
   },
   "source": [
    "## Data Science Tools\n",
    "\n",
    "Some of the commonly used libraries used by Data Scientists include:\n",
    "\n",
    "1. NumPy\n",
    "2. Pandas\n",
    "3. Matplotlib\n",
    "\n",
    "### Examples of Evaluating Arithmetic Expressions in Python\n"
   ]
  },
  {
   "cell_type": "markdown",
   "id": "8ef673ee-d206-4059-a618-6286a5f1f076",
   "metadata": {
    "tags": []
   },
   "source": [
    "# This is a simple arithmetic expression to multiply then add integers.\n",
    "result = (3*4) + 5\n",
    "print(result)\n"
   ]
  },
  {
   "cell_type": "code",
   "execution_count": 3,
   "id": "2bfe4f5d-e3ff-4596-b929-b4124d5a4106",
   "metadata": {
    "tags": []
   },
   "outputs": [
    {
     "data": {
      "text/plain": [
       "17"
      ]
     },
     "execution_count": 3,
     "metadata": {},
     "output_type": "execute_result"
    }
   ],
   "source": [
    "# This is a simple arithmetic expression to multiply then add integers.\n",
    "result = (3 * 4) + 5\n",
    "result"
   ]
  },
  {
   "cell_type": "code",
   "execution_count": 4,
   "id": "b14cb239-479f-4c20-8434-9caf1453e08a",
   "metadata": {
    "tags": []
   },
   "outputs": [
    {
     "data": {
      "text/plain": [
       "3.3333333333333335"
      ]
     },
     "execution_count": 4,
     "metadata": {},
     "output_type": "execute_result"
    }
   ],
   "source": [
    "# This will convert 200 minutes to hours by dividing by 60.\n",
    "hours = 200 / 60\n",
    "hours\n"
   ]
  },
  {
   "cell_type": "markdown",
   "id": "5fd389d5-5c27-4474-9ab7-2386a7376c3a",
   "metadata": {},
   "source": [
    "## Objectives:\n",
    "\n",
    "- **List popular languages for Data Science.**\n",
    "- **Highlight commonly used development environment open source tools in data science.**\n",
    "- **Identify frequently used libraries in data science.**\n",
    "- **Provide examples of evaluating arithmetic expressions in Python.**\n",
    "- **Demonstrate the conversion of minutes to hours in Python.**\n"
   ]
  },
  {
   "cell_type": "markdown",
   "id": "0687d355-a2b2-4cef-98c6-6ed48b956a8a",
   "metadata": {
    "tags": []
   },
   "source": [
    "## Author\n",
    "\n",
    "## Ross"
   ]
  },
  {
   "cell_type": "code",
   "execution_count": null,
   "id": "75a4643e-5154-43f2-b0bb-dbef2e37ed83",
   "metadata": {},
   "outputs": [],
   "source": []
  }
 ],
 "metadata": {
  "kernelspec": {
   "display_name": "Python",
   "language": "python",
   "name": "conda-env-python-py"
  },
  "language_info": {
   "codemirror_mode": {
    "name": "ipython",
    "version": 3
   },
   "file_extension": ".py",
   "mimetype": "text/x-python",
   "name": "python",
   "nbconvert_exporter": "python",
   "pygments_lexer": "ipython3",
   "version": "3.7.12"
  }
 },
 "nbformat": 4,
 "nbformat_minor": 5
}
